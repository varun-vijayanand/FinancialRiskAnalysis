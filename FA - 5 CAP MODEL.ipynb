{
 "cells": [
  {
   "cell_type": "markdown",
   "metadata": {},
   "source": [
    "# Capital Asset Pricing (CAP) Model\n",
    "Investors are:\n",
    "\n",
    "Risk-averse\n",
    "Prefer higher returns\n",
    "Willing to buy the optimal portfolio\n",
    "The market portfolio:\n",
    "\n",
    "A combination of all the possible investments in the world\n",
    "Superior risk-return\n",
    "Optimal in terms of risk because it is a diversified portfolio\n",
    "Only risk for the Market Portfolio is the Systematic Risk\n",
    "With CAPM:\n",
    "\n",
    "Investors Invest in\n",
    "Risk-free and\n",
    "Market portfolio\n",
    "Dependending on the risk preferences, investors chose to buy more risk-free or more market portfolio\n",
    "More info: https://www.investopedia.com/terms/c/capm.asp\n",
    "\n",
    "Beta\n",
    "Measures the market risk that can't be avoided with diversification\n",
    "\n",
    "One of the main pillars of the CAPM\n",
    "\n",
    "Quantifies the relationship beteen a security and the overall market portfolio\n",
    "Remember! Market Portfolio contains all the securities in the market\n",
    "In a Regression (Systematic risk)\n",
    "\n",
    "market will be minus, therefore having diversified portfolio won't save the return\n",
    "Formula:$$\n",
    "\\beta = \\frac{cov(r_x,r_m)}{\\sigma m^2}\n",
    "$$\n",
    "\n",
    "Beta values\n",
    "\n",
    "beta = 0 : No relationship to the market\n",
    "beta < 1 : Defensive. If market performs poor, these stocks will lose less\n",
    "beta > 1 : Aggresive. Stock performs better then market if the market is good, performes worse if the market does bad.\n",
    "Examples:\n",
    "\n",
    "Wallmart\n",
    "Its beta = 0.09\n",
    "Almost no relation to the market as everyone needs food even in recession\n",
    "Ford\n",
    "Its beta = 1.1\n",
    "Aggresive, if market is good higher return, if bad higher risk\n",
    "\n",
    "# CALCULATE PG'S BETA -------------------------\n",
    "\n"
   ]
  },
  {
   "cell_type": "code",
   "execution_count": 2,
   "metadata": {},
   "outputs": [
    {
     "name": "stdout",
     "output_type": "stream",
     "text": [
      "Covariance\n",
      "             PG     ^GSPC\n",
      "PG     0.024197  0.010170\n",
      "^GSPC  0.010170  0.017965\n",
      "Cov with Market\n",
      "0.010170000914796853\n",
      "Market Variance\n",
      "0.017965386180065136\n"
     ]
    }
   ],
   "source": [
    "import numpy as np\n",
    "import pandas as pd\n",
    "from pandas_datareader import data as wb\n",
    "\n",
    "tickers = ['PG', '^GSPC']\n",
    "data = pd.DataFrame()\n",
    "\n",
    "for t in tickers:\n",
    "    data[t] = wb.DataReader(t, data_source='yahoo', start='2015-01-01', end='2019-12-31')['Adj Close']\n",
    "secReturns = np.log( data / data.shift(1))\n",
    "\n",
    "cov = secReturns.cov() * 250\n",
    "print('Covariance')\n",
    "print(cov)\n",
    "\n",
    "covWithMarket = cov.iloc[0,1]\n",
    "print('Cov with Market')\n",
    "print(covWithMarket)\n",
    "\n",
    "marketVariance = secReturns['^GSPC'].var() * 250 \n",
    "print('Market Variance')\n",
    "print(marketVariance)"
   ]
  },
  {
   "cell_type": "code",
   "execution_count": 3,
   "metadata": {},
   "outputs": [
    {
     "name": "stdout",
     "output_type": "stream",
     "text": [
      "PG's beta: 0.566089 \n",
      "Defensive\n"
     ]
    }
   ],
   "source": [
    "pgBeta = covWithMarket / marketVariance\n",
    "print(\"PG's beta: %f \" % pgBeta)\n",
    "\n",
    "if pgBeta == 0:\n",
    "    print('Not related')\n",
    "elif float(pgBeta) < 1 :\n",
    "    print('Defensive')\n",
    "else :\n",
    "    print('Aggresive')"
   ]
  },
  {
   "cell_type": "markdown",
   "metadata": {},
   "source": [
    "# Capital Asset Pricing Model Calculation\n",
    "$$\n",
    "r_i = r_f + \\beta im(r_m - r_f)\n",
    "$$\n",
    "rf : Risk free asset\n",
    "$\\beta im$ : beta between the stock and the market\n",
    "rm : market return\n",
    "Sample for CAPM\n",
    "rf : risk free\n",
    "The closest one is 10 year US gov bond yield: 2.5%\n",
    "$\\beta im$\n",
    "Approximate the market portfolio with the S&P500 : 0.62\n",
    "rm : Equity risk premium, historically it has been between 4.5% and 5.5%\n",
    "# PG's expected return \n",
    "ri = 0.025 + 0.062 * 0.05 = 0.056 = 5.6%\n"
   ]
  },
  {
   "cell_type": "code",
   "execution_count": 4,
   "metadata": {},
   "outputs": [
    {
     "data": {
      "text/plain": [
       "0.05330443168007642"
      ]
     },
     "execution_count": 4,
     "metadata": {},
     "output_type": "execute_result"
    }
   ],
   "source": [
    "# you can get rf from bloomberg's web site (0.025 for 10 y US bond)\n",
    "# research shows risk premium is 0.05\n",
    "pgExpectedReturn = 0.025 + pgBeta * 0.05   \n",
    "pgExpectedReturn"
   ]
  },
  {
   "cell_type": "markdown",
   "metadata": {},
   "source": [
    "# Sharpe Ratio\n",
    "Helps to compare\n",
    "\n",
    "StockA vs stockB\n",
    "PortfolioA vs PortfolioB\n",
    "Formula:$$\n",
    "sharpeRatio = \\frac{r_i-r_f}{\\sigma _i}\n",
    "$$\n",
    "\n",
    "rf : risk free rate\n",
    "ri : rate of return of the stock (i)\n",
    "qi : standard deviation of the stock \"i\"\n",
    "Check more : Capital Market Line\n",
    "\n",
    "Calculate Sharpe Ratio of P&G\n",
    "\n"
   ]
  },
  {
   "cell_type": "code",
   "execution_count": 5,
   "metadata": {},
   "outputs": [
    {
     "data": {
      "text/plain": [
       "0.1819583935507015"
      ]
     },
     "execution_count": 5,
     "metadata": {},
     "output_type": "execute_result"
    }
   ],
   "source": [
    "sharpe = (pgExpectedReturn - 0.025) / (secReturns['PG'].std() * 250 ** 0.5)\n",
    "sharpe"
   ]
  },
  {
   "cell_type": "code",
   "execution_count": null,
   "metadata": {},
   "outputs": [],
   "source": []
  }
 ],
 "metadata": {
  "kernelspec": {
   "display_name": "Python 3",
   "language": "python",
   "name": "python3"
  },
  "language_info": {
   "codemirror_mode": {
    "name": "ipython",
    "version": 3
   },
   "file_extension": ".py",
   "mimetype": "text/x-python",
   "name": "python",
   "nbconvert_exporter": "python",
   "pygments_lexer": "ipython3",
   "version": "3.6.5"
  }
 },
 "nbformat": 4,
 "nbformat_minor": 2
}
